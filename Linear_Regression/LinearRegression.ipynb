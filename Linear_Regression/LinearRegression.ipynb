{
  "cells": [
    {
      "cell_type": "markdown",
      "metadata": {
        "id": "EFDLQE6_obYZ"
      },
      "source": [
        "# Linear Regression"
      ]
    },
    {
      "cell_type": "markdown",
      "metadata": {
        "id": "KkTbCvFmU6EO"
      },
      "source": [
        "Работа выполнена студентом группы 23КНТ2 ИМИКН ВШЭ НН ***Власовым Артёмом Дмитриевичем***"
      ]
    },
    {
      "cell_type": "markdown",
      "metadata": {
        "id": "0AvFN8R731-g"
      },
      "source": [
        "Заранее предупреждаем, что оценка, посчитанная в конце ноутбука не является итоговой, ноутбук будет запущен заново и проверка руками тоже будет. Эта оценка будет предварительной."
      ]
    },
    {
      "cell_type": "code",
      "execution_count": 1,
      "metadata": {
        "id": "bx4G5ZCgmdb_"
      },
      "outputs": [],
      "source": [
        "import pandas as pd\n",
        "import numpy as np\n",
        "import matplotlib.pyplot as plt\n",
        "\n",
        "import warnings\n",
        "warnings.filterwarnings('ignore')"
      ]
    },
    {
      "cell_type": "code",
      "execution_count": 2,
      "metadata": {
        "id": "ou3cJ_jT4yVI"
      },
      "outputs": [],
      "source": [
        "grade_lst = []"
      ]
    },
    {
      "cell_type": "markdown",
      "metadata": {
        "id": "ahr9DMZ-oe1D"
      },
      "source": [
        "### Dataset\n",
        "\n",
        "ACME Insurance Inc. предлагает доступную медицинскую страховку тысячам клиентов по всей территории Соединенных Штатов. Перед вами стоит задача создать автоматизированную систему для оценки ежегодных расходов на медицинское обслуживание новых клиентов с использованием такой информации, как их возраст, пол, индекс массы тела, количество детей, привычки к курению и регион проживания.\n",
        "\n",
        "[dataset](https://www.kaggle.com/datasets/harshsingh2209/medical-insurance-payout/data)"
      ]
    },
    {
      "cell_type": "code",
      "execution_count": 3,
      "metadata": {
        "colab": {
          "base_uri": "https://localhost:8080/",
          "height": 206
        },
        "id": "9w34OWzomeW6",
        "outputId": "1bd11439-288e-4fdb-bf79-00c393781c57"
      },
      "outputs": [
        {
          "data": {
            "text/html": [
              "<div>\n",
              "<style scoped>\n",
              "    .dataframe tbody tr th:only-of-type {\n",
              "        vertical-align: middle;\n",
              "    }\n",
              "\n",
              "    .dataframe tbody tr th {\n",
              "        vertical-align: top;\n",
              "    }\n",
              "\n",
              "    .dataframe thead th {\n",
              "        text-align: right;\n",
              "    }\n",
              "</style>\n",
              "<table border=\"1\" class=\"dataframe\">\n",
              "  <thead>\n",
              "    <tr style=\"text-align: right;\">\n",
              "      <th></th>\n",
              "      <th>age</th>\n",
              "      <th>sex</th>\n",
              "      <th>bmi</th>\n",
              "      <th>children</th>\n",
              "      <th>smoker</th>\n",
              "      <th>region</th>\n",
              "      <th>charges</th>\n",
              "    </tr>\n",
              "  </thead>\n",
              "  <tbody>\n",
              "    <tr>\n",
              "      <th>0</th>\n",
              "      <td>19</td>\n",
              "      <td>female</td>\n",
              "      <td>27.900</td>\n",
              "      <td>0</td>\n",
              "      <td>yes</td>\n",
              "      <td>southwest</td>\n",
              "      <td>16884.92400</td>\n",
              "    </tr>\n",
              "    <tr>\n",
              "      <th>1</th>\n",
              "      <td>18</td>\n",
              "      <td>male</td>\n",
              "      <td>33.770</td>\n",
              "      <td>1</td>\n",
              "      <td>no</td>\n",
              "      <td>southeast</td>\n",
              "      <td>1725.55230</td>\n",
              "    </tr>\n",
              "    <tr>\n",
              "      <th>2</th>\n",
              "      <td>28</td>\n",
              "      <td>male</td>\n",
              "      <td>33.000</td>\n",
              "      <td>3</td>\n",
              "      <td>no</td>\n",
              "      <td>southeast</td>\n",
              "      <td>4449.46200</td>\n",
              "    </tr>\n",
              "    <tr>\n",
              "      <th>3</th>\n",
              "      <td>33</td>\n",
              "      <td>male</td>\n",
              "      <td>22.705</td>\n",
              "      <td>0</td>\n",
              "      <td>no</td>\n",
              "      <td>northwest</td>\n",
              "      <td>21984.47061</td>\n",
              "    </tr>\n",
              "    <tr>\n",
              "      <th>4</th>\n",
              "      <td>32</td>\n",
              "      <td>male</td>\n",
              "      <td>28.880</td>\n",
              "      <td>0</td>\n",
              "      <td>no</td>\n",
              "      <td>northwest</td>\n",
              "      <td>3866.85520</td>\n",
              "    </tr>\n",
              "  </tbody>\n",
              "</table>\n",
              "</div>"
            ],
            "text/plain": [
              "   age     sex     bmi  children smoker     region      charges\n",
              "0   19  female  27.900         0    yes  southwest  16884.92400\n",
              "1   18    male  33.770         1     no  southeast   1725.55230\n",
              "2   28    male  33.000         3     no  southeast   4449.46200\n",
              "3   33    male  22.705         0     no  northwest  21984.47061\n",
              "4   32    male  28.880         0     no  northwest   3866.85520"
            ]
          },
          "execution_count": 3,
          "metadata": {},
          "output_type": "execute_result"
        }
      ],
      "source": [
        "df = pd.read_csv('expenses.csv')\n",
        "df.head()"
      ]
    },
    {
      "cell_type": "code",
      "execution_count": 4,
      "metadata": {
        "colab": {
          "base_uri": "https://localhost:8080/",
          "height": 206
        },
        "id": "Atfu9JCaVJWk",
        "outputId": "4ca83767-3f45-4095-a07f-b730ce25db18"
      },
      "outputs": [
        {
          "data": {
            "text/html": [
              "<div>\n",
              "<style scoped>\n",
              "    .dataframe tbody tr th:only-of-type {\n",
              "        vertical-align: middle;\n",
              "    }\n",
              "\n",
              "    .dataframe tbody tr th {\n",
              "        vertical-align: top;\n",
              "    }\n",
              "\n",
              "    .dataframe thead th {\n",
              "        text-align: right;\n",
              "    }\n",
              "</style>\n",
              "<table border=\"1\" class=\"dataframe\">\n",
              "  <thead>\n",
              "    <tr style=\"text-align: right;\">\n",
              "      <th></th>\n",
              "      <th>age</th>\n",
              "      <th>sex</th>\n",
              "      <th>bmi</th>\n",
              "      <th>children</th>\n",
              "      <th>smoker</th>\n",
              "      <th>region</th>\n",
              "      <th>charges</th>\n",
              "    </tr>\n",
              "  </thead>\n",
              "  <tbody>\n",
              "    <tr>\n",
              "      <th>1333</th>\n",
              "      <td>50</td>\n",
              "      <td>male</td>\n",
              "      <td>30.97</td>\n",
              "      <td>3</td>\n",
              "      <td>no</td>\n",
              "      <td>northwest</td>\n",
              "      <td>10600.5483</td>\n",
              "    </tr>\n",
              "    <tr>\n",
              "      <th>1334</th>\n",
              "      <td>18</td>\n",
              "      <td>female</td>\n",
              "      <td>31.92</td>\n",
              "      <td>0</td>\n",
              "      <td>no</td>\n",
              "      <td>northeast</td>\n",
              "      <td>2205.9808</td>\n",
              "    </tr>\n",
              "    <tr>\n",
              "      <th>1335</th>\n",
              "      <td>18</td>\n",
              "      <td>female</td>\n",
              "      <td>36.85</td>\n",
              "      <td>0</td>\n",
              "      <td>no</td>\n",
              "      <td>southeast</td>\n",
              "      <td>1629.8335</td>\n",
              "    </tr>\n",
              "    <tr>\n",
              "      <th>1336</th>\n",
              "      <td>21</td>\n",
              "      <td>female</td>\n",
              "      <td>25.80</td>\n",
              "      <td>0</td>\n",
              "      <td>no</td>\n",
              "      <td>southwest</td>\n",
              "      <td>2007.9450</td>\n",
              "    </tr>\n",
              "    <tr>\n",
              "      <th>1337</th>\n",
              "      <td>61</td>\n",
              "      <td>female</td>\n",
              "      <td>29.07</td>\n",
              "      <td>0</td>\n",
              "      <td>yes</td>\n",
              "      <td>northwest</td>\n",
              "      <td>29141.3603</td>\n",
              "    </tr>\n",
              "  </tbody>\n",
              "</table>\n",
              "</div>"
            ],
            "text/plain": [
              "      age     sex    bmi  children smoker     region     charges\n",
              "1333   50    male  30.97         3     no  northwest  10600.5483\n",
              "1334   18  female  31.92         0     no  northeast   2205.9808\n",
              "1335   18  female  36.85         0     no  southeast   1629.8335\n",
              "1336   21  female  25.80         0     no  southwest   2007.9450\n",
              "1337   61  female  29.07         0    yes  northwest  29141.3603"
            ]
          },
          "execution_count": 4,
          "metadata": {},
          "output_type": "execute_result"
        }
      ],
      "source": [
        "df.tail()"
      ]
    },
    {
      "cell_type": "markdown",
      "metadata": {
        "id": "-CHMGxoxrIz9"
      },
      "source": [
        "## EDA"
      ]
    },
    {
      "cell_type": "markdown",
      "metadata": {
        "id": "1vhtnPbjpUxO"
      },
      "source": [
        "Проверьте есть ли пропущенные значения в столбцах"
      ]
    },
    {
      "cell_type": "code",
      "execution_count": 5,
      "metadata": {
        "colab": {
          "base_uri": "https://localhost:8080/",
          "height": 304
        },
        "id": "Yf3WdQF3mpSN",
        "outputId": "df2bdd6e-7aa5-4e46-fb72-d05013db0d15"
      },
      "outputs": [
        {
          "data": {
            "text/plain": [
              "age         0\n",
              "sex         0\n",
              "bmi         0\n",
              "children    0\n",
              "smoker      0\n",
              "region      0\n",
              "charges     0\n",
              "dtype: int64"
            ]
          },
          "execution_count": 5,
          "metadata": {},
          "output_type": "execute_result"
        }
      ],
      "source": [
        "df.isna().sum()"
      ]
    },
    {
      "cell_type": "markdown",
      "metadata": {
        "id": "e7Z25gaBpWzy"
      },
      "source": [
        "**Пояснение**: пропущенных значенений в столбцах нет"
      ]
    },
    {
      "cell_type": "markdown",
      "metadata": {
        "id": "Rldb9ByVqigs"
      },
      "source": [
        "Проверьте есть ли повторяющиеся строки"
      ]
    },
    {
      "cell_type": "code",
      "execution_count": 6,
      "metadata": {
        "colab": {
          "base_uri": "https://localhost:8080/",
          "height": 458
        },
        "id": "JRZoMdL3qURJ",
        "outputId": "e9e1da8c-fd41-4710-9f6c-e7d768e260e7"
      },
      "outputs": [
        {
          "data": {
            "text/plain": [
              "0       False\n",
              "1       False\n",
              "2       False\n",
              "3       False\n",
              "4       False\n",
              "        ...  \n",
              "1333    False\n",
              "1334    False\n",
              "1335    False\n",
              "1336    False\n",
              "1337    False\n",
              "Length: 1338, dtype: bool"
            ]
          },
          "execution_count": 6,
          "metadata": {},
          "output_type": "execute_result"
        }
      ],
      "source": [
        "df.duplicated()"
      ]
    },
    {
      "cell_type": "markdown",
      "metadata": {
        "id": "iFsns6s8pffW"
      },
      "source": [
        "**Пояснение**: повторяющихся строк нет"
      ]
    },
    {
      "cell_type": "markdown",
      "metadata": {
        "id": "znmZhoclq6g3"
      },
      "source": [
        "### Кодировка категориальных признаков"
      ]
    },
    {
      "cell_type": "code",
      "execution_count": 7,
      "metadata": {
        "colab": {
          "base_uri": "https://localhost:8080/"
        },
        "id": "gmZhuoc5X3i8",
        "outputId": "6294c40c-1734-416a-8550-ce691535eca9"
      },
      "outputs": [
        {
          "name": "stdout",
          "output_type": "stream",
          "text": [
            "<class 'pandas.core.frame.DataFrame'>\n",
            "RangeIndex: 1338 entries, 0 to 1337\n",
            "Data columns (total 7 columns):\n",
            " #   Column    Non-Null Count  Dtype  \n",
            "---  ------    --------------  -----  \n",
            " 0   age       1338 non-null   int64  \n",
            " 1   sex       1338 non-null   object \n",
            " 2   bmi       1338 non-null   float64\n",
            " 3   children  1338 non-null   int64  \n",
            " 4   smoker    1338 non-null   object \n",
            " 5   region    1338 non-null   object \n",
            " 6   charges   1338 non-null   float64\n",
            "dtypes: float64(2), int64(2), object(3)\n",
            "memory usage: 73.3+ KB\n",
            "None\n"
          ]
        }
      ],
      "source": [
        "print(df.info())"
      ]
    },
    {
      "cell_type": "markdown",
      "metadata": {
        "id": "aEwVEHMMrLx-"
      },
      "source": [
        "Закодируйте категориальные признаки с помощью OneHotEncoder (используя drop='first')"
      ]
    },
    {
      "cell_type": "code",
      "execution_count": 8,
      "metadata": {
        "id": "Wm51v6LnqrCU"
      },
      "outputs": [],
      "source": [
        "from sklearn.preprocessing import OneHotEncoder"
      ]
    },
    {
      "cell_type": "code",
      "execution_count": 9,
      "metadata": {
        "id": "oY2KwMTXrW4R"
      },
      "outputs": [],
      "source": [
        "encoder = OneHotEncoder(drop='first')\n",
        "categorical_cols = ['region', 'sex', 'smoker']\n",
        "df = pd.get_dummies(df, columns=categorical_cols, drop_first=True)"
      ]
    },
    {
      "cell_type": "markdown",
      "metadata": {
        "id": "sLZo8w9VtwX1"
      },
      "source": [
        "**Задание 1:** укажите в переменные mean_region, mean_sex, df_shape среднее значение по новой закодированной колонке region, среднее по колонке sex и размер нового датасета соответственно"
      ]
    },
    {
      "cell_type": "code",
      "execution_count": 10,
      "metadata": {
        "colab": {
          "base_uri": "https://localhost:8080/",
          "height": 206
        },
        "id": "CO7vNnVAWc-n",
        "outputId": "dc342faa-2dd1-447d-8e8e-7801c11f0355"
      },
      "outputs": [
        {
          "data": {
            "text/html": [
              "<div>\n",
              "<style scoped>\n",
              "    .dataframe tbody tr th:only-of-type {\n",
              "        vertical-align: middle;\n",
              "    }\n",
              "\n",
              "    .dataframe tbody tr th {\n",
              "        vertical-align: top;\n",
              "    }\n",
              "\n",
              "    .dataframe thead th {\n",
              "        text-align: right;\n",
              "    }\n",
              "</style>\n",
              "<table border=\"1\" class=\"dataframe\">\n",
              "  <thead>\n",
              "    <tr style=\"text-align: right;\">\n",
              "      <th></th>\n",
              "      <th>age</th>\n",
              "      <th>bmi</th>\n",
              "      <th>children</th>\n",
              "      <th>charges</th>\n",
              "      <th>region_northwest</th>\n",
              "      <th>region_southeast</th>\n",
              "      <th>region_southwest</th>\n",
              "      <th>sex_male</th>\n",
              "      <th>smoker_yes</th>\n",
              "    </tr>\n",
              "  </thead>\n",
              "  <tbody>\n",
              "    <tr>\n",
              "      <th>0</th>\n",
              "      <td>19</td>\n",
              "      <td>27.900</td>\n",
              "      <td>0</td>\n",
              "      <td>16884.92400</td>\n",
              "      <td>False</td>\n",
              "      <td>False</td>\n",
              "      <td>True</td>\n",
              "      <td>False</td>\n",
              "      <td>True</td>\n",
              "    </tr>\n",
              "    <tr>\n",
              "      <th>1</th>\n",
              "      <td>18</td>\n",
              "      <td>33.770</td>\n",
              "      <td>1</td>\n",
              "      <td>1725.55230</td>\n",
              "      <td>False</td>\n",
              "      <td>True</td>\n",
              "      <td>False</td>\n",
              "      <td>True</td>\n",
              "      <td>False</td>\n",
              "    </tr>\n",
              "    <tr>\n",
              "      <th>2</th>\n",
              "      <td>28</td>\n",
              "      <td>33.000</td>\n",
              "      <td>3</td>\n",
              "      <td>4449.46200</td>\n",
              "      <td>False</td>\n",
              "      <td>True</td>\n",
              "      <td>False</td>\n",
              "      <td>True</td>\n",
              "      <td>False</td>\n",
              "    </tr>\n",
              "    <tr>\n",
              "      <th>3</th>\n",
              "      <td>33</td>\n",
              "      <td>22.705</td>\n",
              "      <td>0</td>\n",
              "      <td>21984.47061</td>\n",
              "      <td>True</td>\n",
              "      <td>False</td>\n",
              "      <td>False</td>\n",
              "      <td>True</td>\n",
              "      <td>False</td>\n",
              "    </tr>\n",
              "    <tr>\n",
              "      <th>4</th>\n",
              "      <td>32</td>\n",
              "      <td>28.880</td>\n",
              "      <td>0</td>\n",
              "      <td>3866.85520</td>\n",
              "      <td>True</td>\n",
              "      <td>False</td>\n",
              "      <td>False</td>\n",
              "      <td>True</td>\n",
              "      <td>False</td>\n",
              "    </tr>\n",
              "  </tbody>\n",
              "</table>\n",
              "</div>"
            ],
            "text/plain": [
              "   age     bmi  children      charges  region_northwest  region_southeast  \\\n",
              "0   19  27.900         0  16884.92400             False             False   \n",
              "1   18  33.770         1   1725.55230             False              True   \n",
              "2   28  33.000         3   4449.46200             False              True   \n",
              "3   33  22.705         0  21984.47061              True             False   \n",
              "4   32  28.880         0   3866.85520              True             False   \n",
              "\n",
              "   region_southwest  sex_male  smoker_yes  \n",
              "0              True     False        True  \n",
              "1             False      True       False  \n",
              "2             False      True       False  \n",
              "3             False      True       False  \n",
              "4             False      True       False  "
            ]
          },
          "execution_count": 10,
          "metadata": {},
          "output_type": "execute_result"
        }
      ],
      "source": [
        "df.head()"
      ]
    },
    {
      "cell_type": "code",
      "execution_count": 11,
      "metadata": {
        "id": "PAQ_8K84uNzw"
      },
      "outputs": [],
      "source": [
        "mean_region = df[[\"region_northwest\", \"region_southeast\", \"region_southwest\"]].mean().mean()\n",
        "mean_sex = df['sex_male'].mean()\n",
        "df_shape = df.shape[1]\n",
        "\n",
        "grade_lst.append(mean_region)\n",
        "grade_lst.append(mean_sex)\n",
        "grade_lst.append(df_shape)"
      ]
    },
    {
      "cell_type": "code",
      "execution_count": 12,
      "metadata": {
        "colab": {
          "base_uri": "https://localhost:8080/"
        },
        "id": "Jf_2OSWPZLpY",
        "outputId": "dfcbdff5-6220-47e7-f3c9-931f198f26ba"
      },
      "outputs": [
        {
          "name": "stdout",
          "output_type": "stream",
          "text": [
            "0.25261584454409564\n",
            "0.5052316890881914\n",
            "9\n"
          ]
        }
      ],
      "source": [
        "print(mean_region)\n",
        "print(mean_sex)\n",
        "print(df_shape)"
      ]
    },
    {
      "cell_type": "markdown",
      "metadata": {
        "id": "eWIrFeUqtrTL"
      },
      "source": [
        "Постройте матрицу корреляций"
      ]
    },
    {
      "cell_type": "code",
      "execution_count": 13,
      "metadata": {
        "id": "mamCG8InrdgQ"
      },
      "outputs": [],
      "source": [
        "import seaborn as sns"
      ]
    },
    {
      "cell_type": "code",
      "execution_count": 14,
      "metadata": {
        "colab": {
          "base_uri": "https://localhost:8080/",
          "height": 560
        },
        "id": "HqMiwV6kM2pn",
        "outputId": "65db5aba-64c4-4f8d-c3e8-25a3b5062b7c"
      },
      "outputs": [
        {
          "data": {
            "text/plain": [
              "<Axes: >"
            ]
          },
          "execution_count": 14,
          "metadata": {},
          "output_type": "execute_result"
        },
        {
          "data": {
            "image/png": "[encoded data removed]",
            "text/plain": [
              "<Figure size 640x480 with 2 Axes>"
            ]
          },
          "metadata": {},
          "output_type": "display_data"
        }
      ],
      "source": [
        "corr = df.corr()\n",
        "sns.heatmap(corr,\n",
        "            xticklabels=corr.columns.values,\n",
        "            yticklabels=corr.columns.values)"
      ]
    },
    {
      "cell_type": "markdown",
      "metadata": {
        "id": "OhYBMAtMtQV5"
      },
      "source": [
        "**Задание 2**: Укажите в ячейке ниже в переменную most_correlated признак, который больше всех коррелирует с целевой переменной (charges)"
      ]
    },
    {
      "cell_type": "code",
      "execution_count": 15,
      "metadata": {
        "colab": {
          "base_uri": "https://localhost:8080/"
        },
        "id": "35KnN3dEthYp",
        "outputId": "7935ac00-ecc4-4674-c0ae-87a49b39e299"
      },
      "outputs": [
        {
          "name": "stdout",
          "output_type": "stream",
          "text": [
            "smoker_yes\n"
          ]
        }
      ],
      "source": [
        "most_correlated = corr['charges'].drop('charges').abs().idxmax()\n",
        "print(most_correlated)\n",
        "grade_lst.append(most_correlated)"
      ]
    },
    {
      "cell_type": "markdown",
      "metadata": {
        "id": "_FlHJAKpuS2q"
      },
      "source": [
        "Линейная регрессия на входе должна иметь параметры одного масштаба, поэтому давайте отнормируем вещественные признаки с помощью StandardScaler"
      ]
    },
    {
      "cell_type": "code",
      "execution_count": 16,
      "metadata": {
        "id": "otTigj41uNF4"
      },
      "outputs": [],
      "source": [
        "from sklearn.preprocessing import StandardScaler"
      ]
    },
    {
      "cell_type": "code",
      "execution_count": 17,
      "metadata": {
        "id": "9gyYYxHzu1m7"
      },
      "outputs": [],
      "source": [
        "scaler = StandardScaler()\n",
        "numeric_cols = df.select_dtypes(include=['float64', 'int64']).columns.tolist()\n",
        "numeric_cols.remove('charges')\n",
        "df[numeric_cols] = scaler.fit_transform(df[numeric_cols])"
      ]
    },
    {
      "cell_type": "markdown",
      "metadata": {
        "id": "sItmgBNivIt4"
      },
      "source": [
        "Разделите данные на train и test часть (test_size=0.25, random_state=42)"
      ]
    },
    {
      "cell_type": "code",
      "execution_count": 18,
      "metadata": {
        "id": "9cu8R4G2vKi6"
      },
      "outputs": [],
      "source": [
        "from sklearn.model_selection import train_test_split"
      ]
    },
    {
      "cell_type": "code",
      "execution_count": 19,
      "metadata": {
        "id": "k6k34Pq_vBxF"
      },
      "outputs": [],
      "source": [
        "X = df.drop(columns=['charges'])\n",
        "y = df['charges']\n",
        "X_train, X_test, y_train, y_test = train_test_split(X, y, test_size=0.25, random_state=42)"
      ]
    },
    {
      "cell_type": "markdown",
      "metadata": {
        "id": "DCnpEb80vg_3"
      },
      "source": [
        "### Модель"
      ]
    },
    {
      "cell_type": "code",
      "execution_count": 20,
      "metadata": {
        "id": "gXkVXyr6vZAB"
      },
      "outputs": [],
      "source": [
        "from sklearn.linear_model import Lasso, LinearRegression, Ridge\n",
        "from sklearn.metrics import mean_squared_error\n",
        "from sklearn.model_selection import GridSearchCV\n",
        "from sklearn.metrics import mean_squared_error"
      ]
    },
    {
      "cell_type": "code",
      "execution_count": 21,
      "metadata": {
        "id": "A1lqvBoBdLDD"
      },
      "outputs": [],
      "source": [
        "model = LinearRegression()\n",
        "model.fit(X_train, y_train)\n",
        "y_train_pred = model.predict(X_train)\n",
        "y_test_pred = model.predict(X_test)"
      ]
    },
    {
      "cell_type": "markdown",
      "metadata": {
        "id": "sP6FKXfd9bZb"
      },
      "source": [
        "Оцените линейную регрессию на тренировочной выборке. Выведите среднеквадратичную ошибку на тренировочной и тестовой выборках."
      ]
    },
    {
      "cell_type": "code",
      "execution_count": 22,
      "metadata": {
        "id": "cxglBVThvjLr"
      },
      "outputs": [],
      "source": [
        "train_mse = mean_squared_error(y_train, y_train_pred)\n",
        "test_mse = mean_squared_error(y_test, y_test_pred)"
      ]
    },
    {
      "cell_type": "code",
      "execution_count": 23,
      "metadata": {
        "colab": {
          "base_uri": "https://localhost:8080/"
        },
        "id": "8kehRYmOdZzc",
        "outputId": "d72a2a9d-b741-4522-ba78-4859ab2b6b3a"
      },
      "outputs": [
        {
          "name": "stdout",
          "output_type": "stream",
          "text": [
            "Среднеквадратичная ошибку на тренировочной выборке: 37004502.18409475\n",
            "Среднеквадратичная ошибку на тестовой выборке: 35117755.73613634\n"
          ]
        }
      ],
      "source": [
        "print(f\"Среднеквадратичная ошибку на тренировочной выборке: {train_mse}\")\n",
        "print(f\"Среднеквадратичная ошибку на тестовой выборке: {test_mse}\")"
      ]
    },
    {
      "cell_type": "markdown",
      "metadata": {
        "id": "RTPSE6OS9fYt"
      },
      "source": [
        "Изучите документацию модуля LinearRegression и выведите полученные оценки коэффициентов. Назовите вещественные переменные, оценки коэффициентов которых по модулю на порядок превышают оценки прочих вещественных переменных."
      ]
    },
    {
      "cell_type": "code",
      "execution_count": 24,
      "metadata": {
        "colab": {
          "base_uri": "https://localhost:8080/",
          "height": 335
        },
        "id": "iexbEvvzo77e",
        "outputId": "482c70a7-2459-4fda-d4ee-69fe506df9c8"
      },
      "outputs": [
        {
          "data": {
            "text/plain": [
              "age                  3646.338386\n",
              "bmi                  2071.420085\n",
              "children              513.953768\n",
              "region_northwest     -355.148621\n",
              "region_southeast     -781.368389\n",
              "region_southwest     -860.266712\n",
              "sex_male               45.622427\n",
              "smoker_yes          23630.398990\n",
              "dtype: float64"
            ]
          },
          "execution_count": 24,
          "metadata": {},
          "output_type": "execute_result"
        }
      ],
      "source": [
        "coefficients = pd.Series(model.coef_, index=X.columns)\n",
        "coefficients"
      ]
    },
    {
      "cell_type": "markdown",
      "metadata": {
        "id": "vvpwpIayuof5"
      },
      "source": [
        "**Задание 3:** в переменную most_importnace_features укажите три признака, имеющих больший feature_importance"
      ]
    },
    {
      "cell_type": "code",
      "execution_count": 25,
      "metadata": {
        "colab": {
          "base_uri": "https://localhost:8080/"
        },
        "id": "6U3RzTCSds1v",
        "outputId": "5960b3ce-f00a-40a3-9510-96a2d6686b96"
      },
      "outputs": [
        {
          "data": {
            "text/plain": [
              "['smoker_yes', 'age', 'bmi']"
            ]
          },
          "execution_count": 25,
          "metadata": {},
          "output_type": "execute_result"
        }
      ],
      "source": [
        "coefficients.abs().nlargest(3).index.tolist()"
      ]
    },
    {
      "cell_type": "code",
      "execution_count": 26,
      "metadata": {
        "id": "WkhvTW4eu5Rq"
      },
      "outputs": [],
      "source": [
        "most_importance_features = coefficients.abs().nlargest(3).index.tolist()\n",
        "\n",
        "grade_lst.append(most_importance_features.copy())"
      ]
    },
    {
      "cell_type": "markdown",
      "metadata": {
        "id": "hqb8Vf599uP9"
      },
      "source": [
        "#### Регуляризация\n",
        "\n",
        "Один из важнейших пунктов при использовании линейных моделей, так как они являются достаточно слабыми, они всеми силами стараются переобучиться, поэтому мы используем регуляризацию, которая контроллирует норму весов, не давая коэфициентам становиться очень большими.\n",
        "\n",
        "Cмысл регуляризации заключается в том, чтобы изменить функцию потерь так, чтобы устранить проблемы, появляющиеся из-за мультиколлинеарности. При L1-регуляризации предлагается минимизировать следующую функцию потерь:\n",
        "\n",
        "\n",
        "$||y - X\\hat{w}|| + \\alpha \\sum\\limits_{i = 1}^n |w_i|$\n",
        "\n",
        "\n",
        "Такая модель называется **Lasso-регрессией**.\n",
        "\n",
        "При L2-регуляризации предлагается минимизировать следующую функцию потерь:\n",
        "\n",
        "\n",
        "$||y - X\\hat{w}|| + \\alpha \\sum\\limits_{i = 1}^n ||w_i||^2$\n",
        "\n",
        "Такая модель называется **Ridge-регрессией**.\n",
        "\n",
        "Обучите Lasso-регрессию и Ridge-регрессию, уставновив гиперпараметр регуляризации равным 10. Для этого используйте модули Lasso и Ridge из sklearn."
      ]
    },
    {
      "cell_type": "code",
      "execution_count": 27,
      "metadata": {
        "id": "2McMqZ-iv_Nn"
      },
      "outputs": [],
      "source": [
        "lasso = Lasso(alpha=10)\n",
        "ridge = Ridge(alpha=10)\n",
        "\n",
        "lasso.fit(X_train, y_train)\n",
        "ridge.fit(X_train, y_train)\n",
        "\n",
        "lasso_mse = mean_squared_error(y_test, lasso.predict(X_test))\n",
        "ridge_mse = mean_squared_error(y_test, ridge.predict(X_test))"
      ]
    },
    {
      "cell_type": "code",
      "execution_count": 28,
      "metadata": {
        "colab": {
          "base_uri": "https://localhost:8080/"
        },
        "id": "uVjefR6Ferxe",
        "outputId": "2af5fcb8-cefc-4434-ea6f-5602ab3f00ba"
      },
      "outputs": [
        {
          "name": "stdout",
          "output_type": "stream",
          "text": [
            "lasso_mse: 35152681.12845146;\n",
            " ridge_mse: 35790193.18166306\n"
          ]
        }
      ],
      "source": [
        "print(f\"lasso_mse: {lasso_mse};\\n ridge_mse: {ridge_mse}\")"
      ]
    },
    {
      "cell_type": "markdown",
      "metadata": {
        "id": "xIrOORiAvJvq"
      },
      "source": [
        "**Задание 4:** Укажите в переменную best_model какая модель дала лучшее качество на тесте (Lasso или Ridge)"
      ]
    },
    {
      "cell_type": "code",
      "execution_count": 29,
      "metadata": {
        "id": "cocLefuvwFxH"
      },
      "outputs": [],
      "source": [
        "best_model = 'lasso' if lasso_mse < ridge_mse else 'ridge'\n",
        "\n",
        "grade_lst.append(best_model)"
      ]
    },
    {
      "cell_type": "markdown",
      "metadata": {
        "id": "qnnyWvfRwuau"
      },
      "source": [
        "Постройте график нормы вектора коэфициентов для коэфициентов регуляризации (0.1, 1, 10, 100, 1000, 10000).\n",
        "\n",
        "Как мы знаем Lasso зануляет коэфициенты при достаточно больших коэфициентах регуляризации. Для каждого коэфициента зафиксируйте количество признаков, у которых ненулевой feature_importance"
      ]
    },
    {
      "cell_type": "code",
      "execution_count": 30,
      "metadata": {
        "id": "Xy5wuJNlwFSN"
      },
      "outputs": [],
      "source": [
        "alphas = [0.1, 1, 10, 100, 1000, 10000]\n",
        "lasso_coefs = []\n",
        "nonzero_counts = []\n",
        "\n",
        "for alpha in alphas:\n",
        "    lasso = Lasso(alpha=alpha)\n",
        "    lasso.fit(X_train, y_train)\n",
        "    lasso_coefs.append(np.linalg.norm(lasso.coef_))\n",
        "    nonzero_counts.append(np.sum(lasso.coef_ != 0))"
      ]
    },
    {
      "cell_type": "code",
      "execution_count": 31,
      "metadata": {
        "colab": {
          "base_uri": "https://localhost:8080/"
        },
        "id": "T4CdxpXsfp_8",
        "outputId": "e7a76f7a-23f3-4a5b-9971-ad61341ba85c"
      },
      "outputs": [
        {
          "data": {
            "text/plain": [
              "[np.int64(8), np.int64(8), np.int64(8), np.int64(4), np.int64(3), np.int64(0)]"
            ]
          },
          "execution_count": 31,
          "metadata": {},
          "output_type": "execute_result"
        }
      ],
      "source": [
        "# Количество ненулевых коэффициентов\n",
        "nonzero_counts"
      ]
    },
    {
      "cell_type": "code",
      "execution_count": 32,
      "metadata": {
        "colab": {
          "base_uri": "https://localhost:8080/",
          "height": 492
        },
        "id": "9G99Fu7tfZ_b",
        "outputId": "397c1395-1484-4679-f227-482f37631a1c"
      },
      "outputs": [
        {
          "data": {
            "image/png": "[encoded data removed]",
            "text/plain": [
              "<Figure size 800x500 with 1 Axes>"
            ]
          },
          "metadata": {},
          "output_type": "display_data"
        }
      ],
      "source": [
        "plt.figure(figsize=(8, 5))\n",
        "plt.plot(alphas, lasso_coefs, marker='o', label='Lasso norm')\n",
        "plt.xscale('log')\n",
        "plt.xlabel('Regularization parameter (alpha)')\n",
        "plt.ylabel('Norm of coefficients')\n",
        "plt.title('Lasso Coefficients Norm vs Alpha')\n",
        "plt.legend()\n",
        "plt.show()\n"
      ]
    },
    {
      "cell_type": "markdown",
      "metadata": {
        "id": "1dqP12i3xCFx"
      },
      "source": [
        "**Задание 5:** Укажите для какого коэфициенте регуляризации у Lasso остается всего 3 коэфициента с ненулевым feature_importance"
      ]
    },
    {
      "cell_type": "code",
      "execution_count": 33,
      "metadata": {
        "colab": {
          "base_uri": "https://localhost:8080/"
        },
        "id": "ikzOsXkvwlpi",
        "outputId": "fb9794c4-4d4f-4114-fa2c-db900a99f6c1"
      },
      "outputs": [
        {
          "name": "stdout",
          "output_type": "stream",
          "text": [
            "1000\n"
          ]
        }
      ],
      "source": [
        "three_non_zero_features_alpha = alphas[next(i for i, count in enumerate(nonzero_counts) if count == 3)]\n",
        "print(three_non_zero_features_alpha)\n",
        "grade_lst.append(three_non_zero_features_alpha)"
      ]
    },
    {
      "cell_type": "markdown",
      "metadata": {
        "id": "IQOpuUNqxuBm"
      },
      "source": [
        "Давайте вспомним про кросс-валидацию, это метод оценивания качества модели на тренировочной выборке, работает по следующему алгоритму:\n",
        "\n",
        "1. Делим выборку на некоторое количество фолдов (обычно 5)\n",
        "\n",
        "2. Обучаем модель на всех кроме одного фолда, и на оставшемся фолде оцениваем качество\n",
        "\n",
        "3. Повторяем пункт 2 для всех фолдов\n",
        "\n",
        "4. В конце считаем среднее качество по всем фолдам\n",
        "\n",
        "Итого обучаем 5 раз модель (в этом минус кросс-валидации, если данных много или модель тяжелая, то она может затянуться)\n",
        "\n",
        "\n",
        "Используя LassoCV с количеством фолдов 5 посчитайте для каждого alpha из предыдущего задания MSE на кросс-валидации"
      ]
    },
    {
      "cell_type": "code",
      "execution_count": 34,
      "metadata": {
        "id": "q3vSG-9DgeBL"
      },
      "outputs": [],
      "source": [
        "from sklearn.linear_model import LassoCV\n",
        "from sklearn.model_selection import cross_val_score"
      ]
    },
    {
      "cell_type": "code",
      "execution_count": 35,
      "metadata": {
        "id": "AKNK5ORn7-8L"
      },
      "outputs": [],
      "source": [
        "lasso_cv_mse = {}\n",
        "for alpha in alphas:\n",
        "    lasso_cv = LassoCV(alphas=[alpha], cv=5)\n",
        "    lasso_cv.fit(X_train, y_train)\n",
        "    lasso_cv_mse[alpha] = -np.mean(cross_val_score(lasso_cv, X_train, y_train, scoring='neg_mean_squared_error', cv=5))"
      ]
    },
    {
      "cell_type": "markdown",
      "metadata": {
        "id": "EAO3TlMGzBr6"
      },
      "source": [
        "**Задание 6:** Запишите в переменную best_lasso_alpha коэфициент alpha, при котором достигается наименьший MSE на кросс-валидации"
      ]
    },
    {
      "cell_type": "code",
      "execution_count": 36,
      "metadata": {
        "colab": {
          "base_uri": "https://localhost:8080/"
        },
        "id": "YI7itzawulN7",
        "outputId": "d71c5a49-715a-4618-af24-8c6bd080bd07"
      },
      "outputs": [
        {
          "data": {
            "text/plain": [
              "{0.1: np.float64(37718653.17977096),\n",
              " 1: np.float64(37716157.504426196),\n",
              " 10: np.float64(37697176.02576449),\n",
              " 100: np.float64(37569740.04952149),\n",
              " 1000: np.float64(45856852.80661169),\n",
              " 10000: np.float64(145206937.89072728)}"
            ]
          },
          "execution_count": 36,
          "metadata": {},
          "output_type": "execute_result"
        }
      ],
      "source": [
        "lasso_cv_mse"
      ]
    },
    {
      "cell_type": "code",
      "execution_count": 37,
      "metadata": {
        "colab": {
          "base_uri": "https://localhost:8080/"
        },
        "id": "Pk5aAUFRgzkL",
        "outputId": "af70607b-3afd-4e27-ba5b-4e5dcd2fecc7"
      },
      "outputs": [
        {
          "data": {
            "text/plain": [
              "100"
            ]
          },
          "execution_count": 37,
          "metadata": {},
          "output_type": "execute_result"
        }
      ],
      "source": [
        "min(lasso_cv_mse, key=lasso_cv_mse.get)"
      ]
    },
    {
      "cell_type": "code",
      "execution_count": 38,
      "metadata": {
        "id": "URsKnBxSzOc5"
      },
      "outputs": [],
      "source": [
        "best_lasso_alpha = min(lasso_cv_mse, key=lasso_cv_mse.get)\n",
        "\n",
        "grade_lst.append(best_lasso_alpha)"
      ]
    },
    {
      "cell_type": "markdown",
      "metadata": {
        "id": "eyKwWqcOzULd"
      },
      "source": [
        "Обучите Lasso с лучшим alpha и посчитайте MSE на тесте"
      ]
    },
    {
      "cell_type": "code",
      "execution_count": 39,
      "metadata": {
        "id": "7xL9wlz8p6f5"
      },
      "outputs": [],
      "source": [
        "best_lasso = Lasso(alpha=best_lasso_alpha)\n",
        "best_lasso.fit(X_train, y_train)\n",
        "best_lasso_mse = mean_squared_error(y_test, best_lasso.predict(X_test))"
      ]
    },
    {
      "cell_type": "code",
      "execution_count": 40,
      "metadata": {
        "colab": {
          "base_uri": "https://localhost:8080/"
        },
        "id": "ND4MwNFxhBsA",
        "outputId": "5b4fa27f-bcff-4c12-87c8-d6d6d2c5975f"
      },
      "outputs": [
        {
          "name": "stdout",
          "output_type": "stream",
          "text": [
            "35617699.57838276\n"
          ]
        }
      ],
      "source": [
        "print(best_lasso_mse)"
      ]
    },
    {
      "cell_type": "markdown",
      "metadata": {
        "id": "SmoVen7ZqOcC"
      },
      "source": [
        "### Полиномиальные признаки\n",
        "\n",
        "Линейная регрессия является слабой как раз по причине того, что она собирает лишь линейную комбинацию имеющихся признаков. Поэтому для улучшения можно добавить полиномиальных признаков руками (степени признаков, или произведения признаков)."
      ]
    },
    {
      "cell_type": "code",
      "execution_count": 41,
      "metadata": {
        "id": "RZiJbEnnAs_N"
      },
      "outputs": [],
      "source": [
        "from sklearn.preprocessing import PolynomialFeatures\n",
        "import time"
      ]
    },
    {
      "cell_type": "markdown",
      "metadata": {
        "id": "Dh6LS4kJzbrf"
      },
      "source": [
        "Посчитайте для degree = [2, 3, 4, 5, 6, 7, 8, 9, 10] количество признаков и время за которое обучается модель"
      ]
    },
    {
      "cell_type": "code",
      "execution_count": 42,
      "metadata": {
        "id": "gzm0HvogD709"
      },
      "outputs": [],
      "source": [
        "degrees = [2, 3, 4, 5, 6, 7, 8, 9, 10]\n",
        "feature_counts = []\n",
        "train_times = []\n",
        "test_mses = []\n",
        "\n",
        "for degree in degrees:\n",
        "    poly = PolynomialFeatures(degree)\n",
        "    X_poly = poly.fit_transform(X)\n",
        "    feature_counts.append(X_poly.shape[1])\n",
        "\n",
        "    X_train_poly, X_test_poly, y_train_poly, y_test_poly = train_test_split(X_poly, y, test_size=0.25, random_state=42)\n",
        "\n",
        "    start_time = time.time()\n",
        "    lr_poly = LinearRegression()\n",
        "    lr_poly.fit(X_train_poly, y_train_poly)\n",
        "    end_time = time.time()\n",
        "\n",
        "    train_times.append(end_time - start_time)\n",
        "    test_mses.append(mean_squared_error(y_test_poly, lr_poly.predict(X_test_poly)))\n"
      ]
    },
    {
      "cell_type": "code",
      "execution_count": 43,
      "metadata": {
        "colab": {
          "base_uri": "https://localhost:8080/"
        },
        "id": "ze_WjOLViDQV",
        "outputId": "f4b3d121-70d7-49df-fc2b-70c8d14f89ec"
      },
      "outputs": [
        {
          "data": {
            "text/plain": [
              "([45, 165, 495, 1287, 3003, 6435, 12870, 24310, 43758],\n",
              " [0.005448102951049805,\n",
              "  0.015911579132080078,\n",
              "  0.056902408599853516,\n",
              "  0.35405540466308594,\n",
              "  0.6359329223632812,\n",
              "  1.0151941776275635,\n",
              "  2.0642776489257812,\n",
              "  3.884169101715088,\n",
              "  6.834555387496948])"
            ]
          },
          "execution_count": 43,
          "metadata": {},
          "output_type": "execute_result"
        }
      ],
      "source": [
        "# Выводим количество признаков и времени обучения\n",
        "feature_counts, train_times"
      ]
    },
    {
      "cell_type": "markdown",
      "metadata": {
        "id": "wr6QJ5JG4d7C"
      },
      "source": [
        "**Задание 7:** Укажите в переменную degree_8_n_features сколько признаков в датасете при 8 степени полинома"
      ]
    },
    {
      "cell_type": "code",
      "execution_count": 44,
      "metadata": {
        "colab": {
          "base_uri": "https://localhost:8080/"
        },
        "id": "5J2yt6q54hwP",
        "outputId": "e72047ec-db1e-4612-bebe-f03899ebbdda"
      },
      "outputs": [
        {
          "name": "stdout",
          "output_type": "stream",
          "text": [
            "12870\n"
          ]
        }
      ],
      "source": [
        "degree_8_n_features = feature_counts[degrees.index(8)]\n",
        "print(degree_8_n_features)\n",
        "grade_lst.append(degree_8_n_features)"
      ]
    },
    {
      "cell_type": "markdown",
      "metadata": {
        "id": "zVJwx8BO5WjG"
      },
      "source": [
        "**Задание 8:** Укажите в переменную best_degree степень, при которой MSE на тесте лучшее"
      ]
    },
    {
      "cell_type": "code",
      "execution_count": 45,
      "metadata": {
        "colab": {
          "base_uri": "https://localhost:8080/"
        },
        "id": "VQT_Q5nn5fPh",
        "outputId": "fc1bf2e4-559c-401f-f382-58b56916ea9e"
      },
      "outputs": [
        {
          "name": "stdout",
          "output_type": "stream",
          "text": [
            "2\n"
          ]
        }
      ],
      "source": [
        "best_degree = degrees[np.argmin(test_mses)]\n",
        "print(best_degree)\n",
        "grade_lst.append(best_degree)"
      ]
    },
    {
      "cell_type": "markdown",
      "metadata": {
        "id": "RMojMUR95Nti"
      },
      "source": [
        "Постройте следующие графики в зависимости от степени полинома:\n",
        "\n",
        "1. Количество признаков\n",
        "\n",
        "2. Время обучения\n",
        "\n",
        "3. Качество на тесте"
      ]
    },
    {
      "cell_type": "code",
      "execution_count": 46,
      "metadata": {
        "colab": {
          "base_uri": "https://localhost:8080/",
          "height": 507
        },
        "id": "kefi1Gmt0sbJ",
        "outputId": "70a031bb-173c-4afc-d5bf-ce8f30bc96a9"
      },
      "outputs": [
        {
          "data": {
            "image/png": "[encoded data removed]",
            "text/plain": [
              "<Figure size 1200x500 with 3 Axes>"
            ]
          },
          "metadata": {},
          "output_type": "display_data"
        }
      ],
      "source": [
        "plt.figure(figsize=(12, 5))\n",
        "plt.subplot(1, 3, 1)\n",
        "plt.plot(degrees, feature_counts, marker='o')\n",
        "plt.xlabel('Polynomial Degree')\n",
        "plt.ylabel('Number of Features')\n",
        "plt.title('Feature Count vs Degree')\n",
        "\n",
        "plt.subplot(1, 3, 2)\n",
        "plt.plot(degrees, train_times, marker='o')\n",
        "plt.xlabel('Polynomial Degree')\n",
        "plt.ylabel('Training Time (s)')\n",
        "plt.title('Training Time vs Degree')\n",
        "\n",
        "plt.subplot(1, 3, 3)\n",
        "plt.plot(degrees, test_mses, marker='o')\n",
        "plt.xlabel('Polynomial Degree')\n",
        "plt.ylabel('Test MSE')\n",
        "plt.title('Test MSE vs Degree')\n",
        "\n",
        "plt.tight_layout()\n",
        "plt.show()"
      ]
    },
    {
      "cell_type": "markdown",
      "metadata": {
        "id": "AgYgvr2wNI4d"
      },
      "source": [
        "## Оценка"
      ]
    },
    {
      "cell_type": "code",
      "execution_count": 47,
      "metadata": {
        "id": "20mxpJkRih7p"
      },
      "outputs": [],
      "source": [
        "def grade(grade_lst, epsilon=10e-4):\n",
        "    if len(grade_lst) < 10:\n",
        "        grade_lst += [-float('inf')] * (10 - len(grade_lst))\n",
        "\n",
        "    res = 0\n",
        "    if abs(grade_lst[0] - 0.25261584454409564) < epsilon:\n",
        "        res += 1\n",
        "    if abs(grade_lst[1] - 0.5052316890881914) < epsilon:\n",
        "        res += 1\n",
        "    if grade_lst[2] == 9:\n",
        "        res += 1\n",
        "    if grade_lst[3] == 'smoker_yes':\n",
        "        res += 1\n",
        "\n",
        "    res += int('smoker_yes' in grade_lst[4]) / 3\n",
        "    res += int('age' in grade_lst[4]) / 3\n",
        "    res += int('bmi' in grade_lst[4]) / 3\n",
        "\n",
        "    res += int(grade_lst[5].lower() == 'lasso')\n",
        "\n",
        "    res += int(grade_lst[6] == 1000)\n",
        "\n",
        "    res += int(grade_lst[7] == 100)\n",
        "\n",
        "    res += int(grade_lst[8] == 12870)\n",
        "\n",
        "    res += int(grade_lst[9] < 4)\n",
        "\n",
        "    return res"
      ]
    },
    {
      "cell_type": "code",
      "execution_count": 48,
      "metadata": {
        "colab": {
          "base_uri": "https://localhost:8080/"
        },
        "id": "ndAOUO6BNNWY",
        "outputId": "d3e15294-df6d-495f-ceea-4ba0464fface"
      },
      "outputs": [
        {
          "data": {
            "text/plain": [
              "10.0"
            ]
          },
          "execution_count": 48,
          "metadata": {},
          "output_type": "execute_result"
        }
      ],
      "source": [
        "grade(grade_lst)"
      ]
    }
  ],
  "metadata": {
    "colab": {
      "provenance": []
    },
    "kernelspec": {
      "display_name": "Python 3",
      "name": "python3"
    },
    "language_info": {
      "codemirror_mode": {
        "name": "ipython",
        "version": 3
      },
      "file_extension": ".py",
      "mimetype": "text/x-python",
      "name": "python",
      "nbconvert_exporter": "python",
      "pygments_lexer": "ipython3",
      "version": "3.13.1"
    }
  },
  "nbformat": 4,
  "nbformat_minor": 0
}
